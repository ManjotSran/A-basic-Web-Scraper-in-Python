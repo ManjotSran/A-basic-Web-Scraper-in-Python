{
  "nbformat": 4,
  "nbformat_minor": 0,
  "metadata": {
    "colab": {
      "provenance": []
    },
    "kernelspec": {
      "name": "python3",
      "display_name": "Python 3"
    },
    "language_info": {
      "name": "python"
    }
  },
  "cells": [
    {
      "cell_type": "code",
      "execution_count": 1,
      "metadata": {
        "id": "_QYTDPkp90n-"
      },
      "outputs": [],
      "source": [
        "import requests\n",
        "from bs4 import BeautifulSoup\n",
        "import pandas as pd"
      ]
    },
    {
      "cell_type": "code",
      "source": [
        "r=requests.get(\"https://en.wikipedia.org/wiki/Cloud-computing_comparison\")\n",
        "if r.status_code==200:\n",
        "    print(\"Request Successful!\")\n",
        "else:\n",
        "    print(\"Request Failed!\")\n"
      ],
      "metadata": {
        "colab": {
          "base_uri": "https://localhost:8080/"
        },
        "id": "4IjmXkkq9-3P",
        "outputId": "a2a6a785-c14e-4f40-dab9-463d90cb8508"
      },
      "execution_count": 4,
      "outputs": [
        {
          "output_type": "stream",
          "name": "stdout",
          "text": [
            "Request Successful!\n"
          ]
        }
      ]
    },
    {
      "cell_type": "code",
      "source": [
        "soup=BeautifulSoup(r.text,\"html.parser\")"
      ],
      "metadata": {
        "id": "QTxDn8EA-Rr7"
      },
      "execution_count": 5,
      "outputs": []
    },
    {
      "cell_type": "code",
      "source": [
        "# Print the title of the webpage to verify\n",
        "print(\"Title: \" + soup.title.text)"
      ],
      "metadata": {
        "colab": {
          "base_uri": "https://localhost:8080/"
        },
        "id": "5mvywsHe-qG_",
        "outputId": "b18b50b1-c0c6-4759-849f-64653ce4a6a5"
      },
      "execution_count": 6,
      "outputs": [
        {
          "output_type": "stream",
          "name": "stdout",
          "text": [
            "Title: Cloud-computing comparison - Wikipedia\n"
          ]
        }
      ]
    },
    {
      "cell_type": "code",
      "source": [
        "table=soup.find(\"table\",{\"class\":\"wikitable\"})"
      ],
      "metadata": {
        "id": "Ls5EdiiD-txK"
      },
      "execution_count": 7,
      "outputs": []
    },
    {
      "cell_type": "code",
      "source": [
        "rows=table.find_all(\"tr\")"
      ],
      "metadata": {
        "id": "sxhwk8Dr-t0C"
      },
      "execution_count": 11,
      "outputs": []
    },
    {
      "cell_type": "code",
      "source": [
        "# Extract headers from the first row (using <th> tags)\n",
        "headers = [header.text.strip() for header in rows[0].find_all('th')]"
      ],
      "metadata": {
        "id": "Q3vBvaVx-uOc"
      },
      "execution_count": 12,
      "outputs": []
    },
    {
      "cell_type": "code",
      "source": [
        "# Loop through the rows and extract data (skip the first row with headers)\n",
        "data = []\n",
        "for row in rows[1:]:  # Start from the second row onwards\n",
        "    cols = row.find_all('td')\n",
        "    cols = [col.text.strip() for col in cols]\n",
        "    data.append(cols)"
      ],
      "metadata": {
        "id": "uS-84HTt-uRs"
      },
      "execution_count": 13,
      "outputs": []
    },
    {
      "cell_type": "code",
      "source": [
        "# Convert the data into a pandas DataFrame, using the extracted headers as column names\n",
        "df = pd.DataFrame(data, columns=headers)\n",
        "\n",
        "# Display the first few rows of the DataFrame to verify\n",
        "print(df.head())\n",
        "\n",
        "# Save the DataFrame to a CSV file\n",
        "df.to_csv('scraped_data.csv', index=False)"
      ],
      "metadata": {
        "colab": {
          "base_uri": "https://localhost:8080/"
        },
        "id": "t82L31p4-uUl",
        "outputId": "7c0f7e22-5730-4831-b63d-5967bf4dc9a9"
      },
      "execution_count": 14,
      "outputs": [
        {
          "output_type": "stream",
          "name": "stdout",
          "text": [
            "                      Provider Launched Block storage Assignable IPs  \\\n",
            "0        Google Cloud Platform     2013           Yes             No   \n",
            "1  Oracle Cloud Infrastructure     2014           Yes            Yes   \n",
            "2          Amazon Web Services     2006           Yes            Yes   \n",
            "3                    IBM Cloud     2005           Yes            Yes   \n",
            "4              Microsoft Azure     2010           Yes            Yes   \n",
            "\n",
            "  SMTP support IOPS Guaranteed minimum Security  \\\n",
            "0        No[1]                     Yes   Yes[2]   \n",
            "1          Yes                     Yes   Yes[5]   \n",
            "2   Partial[6]                     Yes   Yes[7]   \n",
            "3        No[9]                     Yes  Yes[10]   \n",
            "4      Yes[11]                     Yes  Yes[12]   \n",
            "\n",
            "                                           Locations             Notes  \n",
            "0  br, ca, cl, us, be, ch, de, es, fi, it, po, nl...  SMTP blocked.[4]  \n",
            "1  us, ca, br, de, uk, nl, ch, in, aus, jp, kr, saud                    \n",
            "2  us, ca, br, ie, de, uk, cn, sg, au, jp, kr, in...   List of bugs[8]  \n",
            "3  us, gb, fr, de, nl, in, au, hk, kr, it, jp, no...                    \n",
            "4  ca, us, br, ie, nl, de, uk, cn, au, jp, in, kr...  List of bugs[13]  \n"
          ]
        }
      ]
    },
    {
      "cell_type": "code",
      "source": [],
      "metadata": {
        "id": "yMbUhj_T_G_9"
      },
      "execution_count": null,
      "outputs": []
    }
  ]
}